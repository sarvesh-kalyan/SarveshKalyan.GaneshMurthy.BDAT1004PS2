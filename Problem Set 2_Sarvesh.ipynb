{
 "cells": [
  {
   "cell_type": "markdown",
   "id": "593580fc",
   "metadata": {},
   "source": [
    "## Problem Set 2 - Python Solutions"
   ]
  },
  {
   "cell_type": "markdown",
   "id": "339347bb",
   "metadata": {},
   "source": [
    "Question 1\n",
    "\n",
    "Consider the following Python module:\n",
    "a = 0\n",
    "def b():\n",
    " global a\n",
    " a = c(a)\n",
    "def c(a):\n",
    " return a + 2\n",
    "After importing the module into the interpreter, you execute:\n",
    ">>> b()\n",
    ">>> b()\n",
    ">>> b()\n",
    ">>> a\n",
    "?\n",
    "What value is displayed when the last expression (a) is evaluated? Explain your\n",
    "answer by indicating what happens in every executed statement."
   ]
  },
  {
   "cell_type": "code",
   "execution_count": 1,
   "id": "195be546",
   "metadata": {},
   "outputs": [],
   "source": [
    "#Solution Q1\n",
    "\n",
    "a=0\n",
    "def b():\n",
    "    global a\n",
    "    a = c(a)\n",
    "def c(a):\n",
    "    return a+2"
   ]
  },
  {
   "cell_type": "code",
   "execution_count": 2,
   "id": "e254323a",
   "metadata": {},
   "outputs": [],
   "source": [
    "b()"
   ]
  },
  {
   "cell_type": "markdown",
   "id": "c285e754",
   "metadata": {},
   "source": [
    "a is previously initialized to 0, now is made a global variable and c(0) gets called which updates a as a+2, which is 2"
   ]
  },
  {
   "cell_type": "code",
   "execution_count": 3,
   "id": "101efe81",
   "metadata": {},
   "outputs": [],
   "source": [
    "b()"
   ]
  },
  {
   "cell_type": "markdown",
   "id": "554e7764",
   "metadata": {},
   "source": [
    "a, currently holds value 2; here c(2) gets called which updates a as a+2, which is 2+2 = 4"
   ]
  },
  {
   "cell_type": "code",
   "execution_count": 4,
   "id": "8fec9a1b",
   "metadata": {},
   "outputs": [],
   "source": [
    "b()"
   ]
  },
  {
   "cell_type": "markdown",
   "id": "1d8e5d44",
   "metadata": {},
   "source": [
    "a, now has 4 which gets updated to 4 after c"
   ]
  },
  {
   "cell_type": "code",
   "execution_count": 5,
   "id": "850f630e",
   "metadata": {},
   "outputs": [
    {
     "data": {
      "text/plain": [
       "6"
      ]
     },
     "execution_count": 5,
     "metadata": {},
     "output_type": "execute_result"
    }
   ],
   "source": [
    "a"
   ]
  },
  {
   "cell_type": "markdown",
   "id": "f14e90b0",
   "metadata": {},
   "source": [
    "The Value displayed after the last expression 'a' is evaluated is 6"
   ]
  },
  {
   "cell_type": "markdown",
   "id": "3f7f49b8",
   "metadata": {},
   "source": [
    "Question 2:\n",
    "\n",
    "Function fileLength(), given to you, takes the name of a file as input and returns\n",
    "the length of the file:\n",
    ">>> fileLength('midterm.py')\n",
    "284\n",
    ">>> fileLength('idterm.py')\n",
    "Traceback (most recent call last):\n",
    "File \"<pyshell#34>\", line 1, in <module>\n",
    " fileLength('idterm.py')\n",
    "File \"/Users/me/midterm.py\", line 3, in fileLength\n",
    " infile = open(filename)\n",
    "FileNotFoundError: [Errno 2] No such file or directory:\n",
    "'idterm.py'\n",
    "As shown above, if the file cannot be found by the interpreter or if it cannot be read\n",
    "as a text file, an exception will be raised. Modify function fileLength() so that a\n",
    "friendly message is printed instead:\n",
    ">>> fileLength('midterm.py')\n",
    "358\n",
    ">>> fileLength('idterm.py')\n",
    "File idterm.py not found.\n"
   ]
  },
  {
   "cell_type": "code",
   "execution_count": 6,
   "id": "26965fcf",
   "metadata": {},
   "outputs": [],
   "source": [
    "#Solution Q2\n",
    "\n",
    "def file_length(file_name):\n",
    "    file = open(file_name)\n",
    "    contents = file.read()\n",
    "    file.close()\n",
    "    print(len(contents))"
   ]
  },
  {
   "cell_type": "code",
   "execution_count": 7,
   "id": "255efdfe",
   "metadata": {},
   "outputs": [
    {
     "name": "stdout",
     "output_type": "stream",
     "text": [
      "33\n"
     ]
    }
   ],
   "source": [
    "file_length('Sarvesh.txt')"
   ]
  },
  {
   "cell_type": "code",
   "execution_count": 8,
   "id": "afe184cd",
   "metadata": {},
   "outputs": [
    {
     "name": "stdout",
     "output_type": "stream",
     "text": [
      "Please enter a valid filename or directory \n"
     ]
    }
   ],
   "source": [
    "try:\n",
    "    file_length('Sarvesh1.txt')\n",
    "except FileNotFoundError:\n",
    "    print('Please enter a valid filename or directory ')"
   ]
  },
  {
   "cell_type": "markdown",
   "id": "1eb2a8d2",
   "metadata": {},
   "source": [
    "Question 3:\n",
    "\n",
    "Write a class named Marsupial that can be used as shown below:\n",
    ">>> m = Marsupial()\n",
    ">>> m.put_in_pouch('doll')\n",
    ">>> m.put_in_pouch('firetruck')\n",
    ">>> m.put_in_pouch('kitten')\n",
    ">>> m.pouch_contents()\n",
    "['doll', 'firetruck', 'kitten']\n",
    "\n",
    "Now write a class named Kangaroo as a subclass of Marsupial that inherits all the\n",
    "attributes of Marsupial and also:\n",
    "a. extends the Marsupial __init__ constructor to take, as input, the\n",
    "coordinates x and y of the Kangaroo object,\n",
    "b. supports method jump that takes number values dx and dy as input and\n",
    "moves the kangaroo by dx units along the x-axis and by dy units along the yaxis, and\n",
    "c. overloads the __str__ operator so it behaves as shown below.\n",
    ">>> k = Kangaroo(0,0)\n",
    ">>> print(k)\n",
    "I am a Kangaroo located at coordinates (0,0)\n",
    ">>> k.put_in_pouch('doll')\n",
    ">>> k.put_in_pouch('firetruck')\n",
    ">>> k.put_in_pouch('kitten')\n",
    ">>> k.pouch_contents()\n",
    "['doll', 'firetruck', 'kitten']\n",
    ">>> k.jump(1,0)\n",
    ">>> k.jump(1,0)\n",
    ">>> k.jump(1,0)\n",
    ">>> print(k)\n",
    "I am a Kangaroo located at coordinates (3,0)"
   ]
  },
  {
   "cell_type": "code",
   "execution_count": 9,
   "id": "eab938ce",
   "metadata": {},
   "outputs": [],
   "source": [
    "#Solution Q3\n",
    "\n",
    "class Marsupial():\n",
    "    def __init__(self):\n",
    "        self.list = []\n",
    "    def put_in_pouch(self, name):\n",
    "        self.list.append(name)\n",
    "    def pouch_contents(self):\n",
    "        print(self.list)\n",
    "\n",
    "class Kangaroo(Marsupial):\n",
    "    def __init__(self,x=0,y=0):\n",
    "        self.x = x\n",
    "        self.y = y\n",
    "    def jump(self,dx,dy):\n",
    "        self.x = self.x+dx;\n",
    "        self.y = self.y+dy;\n",
    "    def __str__(self):\n",
    "        return \" I am a Kangaroo located at coordinates (\"+str(self.x)+\",\"+str(self.y)+ \")\" \n",
    "    \n",
    "        "
   ]
  },
  {
   "cell_type": "code",
   "execution_count": 10,
   "id": "b61d4da4",
   "metadata": {},
   "outputs": [
    {
     "name": "stdout",
     "output_type": "stream",
     "text": [
      "['doll', 'firetruck', 'kitten']\n"
     ]
    }
   ],
   "source": [
    "m = Marsupial()\n",
    "m.put_in_pouch('doll')\n",
    "m.put_in_pouch('firetruck')\n",
    "m.put_in_pouch('kitten')\n",
    "m.pouch_contents()\n"
   ]
  },
  {
   "cell_type": "code",
   "execution_count": 11,
   "id": "35609ab4",
   "metadata": {},
   "outputs": [
    {
     "name": "stdout",
     "output_type": "stream",
     "text": [
      " I am a Kangaroo located at coordinates (0,0)\n"
     ]
    }
   ],
   "source": [
    "k = Kangaroo(0,0)\n",
    "print(k)"
   ]
  },
  {
   "cell_type": "code",
   "execution_count": 12,
   "id": "5f313689",
   "metadata": {},
   "outputs": [
    {
     "name": "stdout",
     "output_type": "stream",
     "text": [
      " I am a Kangaroo located at coordinates (3,0)\n"
     ]
    }
   ],
   "source": [
    "k.jump(1,0)\n",
    "k.jump(1,0)\n",
    "k.jump(1,0)\n",
    "print(k)"
   ]
  },
  {
   "cell_type": "markdown",
   "id": "7f10fc0e",
   "metadata": {},
   "source": [
    "Question 4:    \n",
    "\n",
    "Write function collatz() that takes a positive integer x as input and prints the\n",
    "Collatz sequence starting at x. A Collatz sequence is obtained by repeatedly applying\n",
    "this rule to the previous number x in the sequence:\n",
    "x = {\n",
    "𝑥/2 𝑖𝑓 𝑥 𝑖𝑠 𝑒𝑣𝑒𝑛\n",
    "3𝑥 + 1 𝑖𝑓 𝑥 𝑖𝑠 𝑜𝑑𝑑\n",
    "Your function should stop when the sequence gets to number 1. Your\n",
    "implementation must be recursive, without any loops.\n",
    ">>> collatz(1)\n",
    "1\n",
    ">>> collatz(10)\n",
    "10\n",
    "5\n",
    "16\n",
    "8\n",
    "4\n",
    "2\n",
    "1"
   ]
  },
  {
   "cell_type": "code",
   "execution_count": 13,
   "id": "4e597bc9",
   "metadata": {},
   "outputs": [],
   "source": [
    "#Solution Q4\n",
    "\n",
    "def collatz(n):\n",
    "    if(n!=1):\n",
    "        print(n);\n",
    "        if(n%2 == 0):\n",
    "            n = n//2;\n",
    "            collatz(n);\n",
    "        else:\n",
    "            n = 3*n+1;\n",
    "            collatz(n);\n",
    "    elif(n==1):\n",
    "        print(n);"
   ]
  },
  {
   "cell_type": "code",
   "execution_count": 14,
   "id": "6280a8fa",
   "metadata": {},
   "outputs": [
    {
     "name": "stdout",
     "output_type": "stream",
     "text": [
      "10\n",
      "5\n",
      "16\n",
      "8\n",
      "4\n",
      "2\n",
      "1\n"
     ]
    }
   ],
   "source": [
    "collatz(10)"
   ]
  },
  {
   "cell_type": "markdown",
   "id": "77c620b7",
   "metadata": {},
   "source": [
    "Question 5:\n",
    "\n",
    "Write a recursive method binary() that takes a non-negative\n",
    "integer n and prints the binary representation of integer n.\n",
    ">>> binary(0)\n",
    "0\n",
    ">>> binary(1)\n",
    "1\n",
    ">>> binary(3)\n",
    "11\n",
    ">>> binary(9)\n",
    "1001"
   ]
  },
  {
   "cell_type": "code",
   "execution_count": 15,
   "id": "5f49b934",
   "metadata": {},
   "outputs": [],
   "source": [
    "#Solution Q5\n",
    "\n",
    "def binary(n):\n",
    "    if(n>=1):\n",
    "        binary(n//2)\n",
    "    print(n%2,end='')"
   ]
  },
  {
   "cell_type": "code",
   "execution_count": 16,
   "id": "c182656a",
   "metadata": {},
   "outputs": [
    {
     "name": "stdout",
     "output_type": "stream",
     "text": [
      "01011001"
     ]
    }
   ],
   "source": [
    "binary(89)"
   ]
  },
  {
   "cell_type": "markdown",
   "id": "97e9fca8",
   "metadata": {},
   "source": [
    "Question 6:\n",
    "\n",
    "Implement a class named HeadingParser that can be used to parse an HTML document, and retrieve and print all the headings in the document. You should implement your class as a subclass of HTMLParser, defined in Standard Library module html.parser. When fed a string containing HTML code, your class should print the headings, one per line and in the order in which they appear in the document. Each heading should be indented as follows: an h1 heading should have indentation 0, and h2 heading should have indentation 1, etc. Test your implementation using w3c.html.\n",
    ">>> infile = open('w3c.html')\n",
    ">>> content = infile.read()\n",
    ">>> infile.close()\n",
    ">>> hp = HeadingParser()\n",
    ">>> hp.feed(content)\n",
    "W3C Mission\n",
    "Principles\n"
   ]
  },
  {
   "cell_type": "markdown",
   "id": "f1bdd355",
   "metadata": {},
   "source": [
    "Question 7:\n",
    "\n",
    "Implement recursive function webdir() that takes as input: a URL (as a string) and\n",
    "non-negative integers depth and indent. Your function should visit every web\n",
    "page reachable from the starting URL web page in depth clicks or less, and print\n",
    "each web page's URL. As shown below, indentation, specified by indent, should\n",
    "be used to indicate the depth of a URL.\n",
    ">>>\n",
    "webdir('http://reed.cs.depaul.edu/lperkovic/csc242/test1.html'\n",
    ", 2, 0)\n",
    "http://reed.cs.depaul.edu/lperkovic/csc242/test1.html\n",
    " http://reed.cs.depaul.edu/lperkovic/csc242/test2.html\n",
    " http://reed.cs.depaul.edu/lperkovic/csc242/test4.html\n",
    " http://reed.cs.depaul.edu/lperkovic/csc242/test3.html\n",
    " http://reed.cs.depaul.edu/lperkovic/csc242/test4.html"
   ]
  },
  {
   "cell_type": "markdown",
   "id": "b5c0982b",
   "metadata": {},
   "source": [
    "Question 8:\n",
    "\n",
    "Write SQL queries on the below database table that return:\n",
    "a) All the temperature data.\n",
    "b) All the cities, but without repetition.\n",
    "c) All the records for India.\n",
    "d) All the Fall records.\n",
    "e) The city, country, and season for which the average rainfall is between 200\n",
    "and 400 millimeters.\n",
    "f) The city and country for which the average Fall temperature is above 20\n",
    "degrees, in increasing temperature order.\n",
    "g) The total annual rainfall for Cairo.\n",
    "h) The total rainfall for each season.\n"
   ]
  },
  {
   "cell_type": "markdown",
   "id": "4c665a8b",
   "metadata": {},
   "source": [
    "//Solution Q8\n",
    "\n",
    "//Considering the name for given table as 'dataset' \n",
    "\n",
    "a)SELECT temperature \n",
    "    FROM dataset\n",
    "\n",
    "b)SELECT DISTINCT City \n",
    "    FROM dataset\n",
    "\n",
    "c)SELECT * \n",
    "    FROM dataset \n",
    "    WHERE Country = 'India'\n",
    "\n",
    "d)SELECT * \n",
    "    FROM dataset \n",
    "    WHERE Season = 'Fall'\n",
    "\n",
    "e)SELECT City, Country, Season\n",
    "    FROM dataset\n",
    "    WHERE Rainfall(mm) BETWEEN 200 AND 400\n",
    "\n",
    "f)SELECT City, Country\n",
    "    FROM dataset\n",
    "    WHERE Season = 'Fall' AND Temperature(C)>20 \n",
    "    ORDER BY Temperature(C)\n",
    "    \n",
    "g)SELECT SUM(Rainfall(mm)) \n",
    "    FROM dataset  \n",
    "    GROUP BY City \n",
    "    HAVING City = 'Cairo'\n",
    "    \n",
    "h)SELECT SUM(Rainfall(mm)),Season \n",
    "    FROM dataset \n",
    "    GROUP BY Season"
   ]
  },
  {
   "cell_type": "markdown",
   "id": "96144412",
   "metadata": {},
   "source": [
    "Question 9:\n",
    "\n",
    ". Suppose list words is defined as follows:\n",
    " >>> words = ['The', 'quick', 'brown', 'fox', 'jumps', 'over','the', 'lazy', 'dog']\n",
    "Write list comprehension expressions that use list words and generate the following\n",
    "lists:\n",
    "a) ['THE', 'QUICK', 'BROWN', 'FOX', 'JUMPS', 'OVER', 'THE','LAZY', 'DOG']\n",
    "\n",
    "b) ['the', 'quick', 'brown', 'fox', 'jumps', 'over', 'the','lazy', 'dog']\n",
    "\n",
    "c) [3, 5, 5, 3, 5, 4, 3, 4, 3] (the list of lengths of words in list\n",
    "words).\n",
    "\n",
    "d) [['THE', 'the', 3], ['QUICK', 'quick', 5], ['BROWN','brown', 5], ['FOX', 'fox', 3], ['JUMPS', 'jumps', 5],['OVER', 'over', 4], ['THE', 'the', 3], ['LAZY', 'lazy',4], ['DOG', 'dog', 3]] (the list containing a list for every word of listwords, where each list contains the word in uppercase and lowercase and the length of the word.)\n",
    "\n",
    "e) ['The', 'quick', 'brown', 'fox', 'jumps', 'over', 'the','lazy', 'dog'] (the list of words in list words containing 4 or more\n",
    "characters.)"
   ]
  },
  {
   "cell_type": "code",
   "execution_count": 17,
   "id": "55e9fd66",
   "metadata": {},
   "outputs": [],
   "source": [
    "words = ['The', 'quick', 'brown', 'fox', 'jumps', 'over','the', 'lazy', 'dog']\n",
    "a = [i.upper() for i in words]\n",
    "b = [i.lower() for i in words]\n",
    "c = [len(i) for i in words] \n",
    "d = [[i.upper(),i.lower(),len(i)] for i in words]\n",
    "e = [i for i in words if len(i)>3]"
   ]
  },
  {
   "cell_type": "code",
   "execution_count": 18,
   "id": "dbd9ae2c",
   "metadata": {},
   "outputs": [
    {
     "name": "stdout",
     "output_type": "stream",
     "text": [
      "['THE', 'QUICK', 'BROWN', 'FOX', 'JUMPS', 'OVER', 'THE', 'LAZY', 'DOG']\n",
      "\n",
      "['the', 'quick', 'brown', 'fox', 'jumps', 'over', 'the', 'lazy', 'dog']\n",
      "\n",
      "[3, 5, 5, 3, 5, 4, 3, 4, 3]\n",
      "\n",
      "[['THE', 'the', 3], ['QUICK', 'quick', 5], ['BROWN', 'brown', 5], ['FOX', 'fox', 3], ['JUMPS', 'jumps', 5], ['OVER', 'over', 4], ['THE', 'the', 3], ['LAZY', 'lazy', 4], ['DOG', 'dog', 3]]\n",
      "\n",
      "['quick', 'brown', 'jumps', 'over', 'lazy']\n",
      "\n"
     ]
    }
   ],
   "source": [
    "print(a,end = '\\n\\n')\n",
    "print(b,end = '\\n\\n')\n",
    "print(c,end = '\\n\\n')\n",
    "print(d,end = '\\n\\n')\n",
    "print(e,end = '\\n\\n')"
   ]
  },
  {
   "cell_type": "code",
   "execution_count": null,
   "id": "0b859710",
   "metadata": {},
   "outputs": [],
   "source": []
  }
 ],
 "metadata": {
  "kernelspec": {
   "display_name": "Python 3",
   "language": "python",
   "name": "python3"
  },
  "language_info": {
   "codemirror_mode": {
    "name": "ipython",
    "version": 3
   },
   "file_extension": ".py",
   "mimetype": "text/x-python",
   "name": "python",
   "nbconvert_exporter": "python",
   "pygments_lexer": "ipython3",
   "version": "3.8.8"
  }
 },
 "nbformat": 4,
 "nbformat_minor": 5
}
